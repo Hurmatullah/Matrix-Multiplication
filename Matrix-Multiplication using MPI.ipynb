{
 "cells": [
  {
   "cell_type": "code",
   "execution_count": 1,
   "id": "359bbfa1",
   "metadata": {},
   "outputs": [],
   "source": [
    "import numpy as np\n",
    "import pandas as pd\n",
    "import matplotlib.pyplot as plt"
   ]
  },
  {
   "cell_type": "code",
   "execution_count": 2,
   "id": "194c430a",
   "metadata": {},
   "outputs": [],
   "source": [
    "# readTxtFile = pd.read_csv (r'iteration_exper.txt')\n",
    "# converted = readTxtFile.to_csv (r'iteration_exper(t2).csv', index=None)"
   ]
  },
  {
   "cell_type": "markdown",
   "id": "50529eb1",
   "metadata": {},
   "source": [
    "### Thread-Iteration ###"
   ]
  },
  {
   "cell_type": "code",
   "execution_count": 3,
   "id": "98f4ec15",
   "metadata": {},
   "outputs": [],
   "source": [
    "thread_dataset = pd.read_csv('thread_iter(t2).csv')"
   ]
  },
  {
   "cell_type": "code",
   "execution_count": 4,
   "id": "6093700d",
   "metadata": {},
   "outputs": [
    {
     "data": {
      "text/html": [
       "<div>\n",
       "<style scoped>\n",
       "    .dataframe tbody tr th:only-of-type {\n",
       "        vertical-align: middle;\n",
       "    }\n",
       "\n",
       "    .dataframe tbody tr th {\n",
       "        vertical-align: top;\n",
       "    }\n",
       "\n",
       "    .dataframe thead th {\n",
       "        text-align: right;\n",
       "    }\n",
       "</style>\n",
       "<table border=\"1\" class=\"dataframe\">\n",
       "  <thead>\n",
       "    <tr style=\"text-align: right;\">\n",
       "      <th></th>\n",
       "      <th>Thread</th>\n",
       "      <th>Rank</th>\n",
       "      <th>Iterations</th>\n",
       "      <th>Time</th>\n",
       "    </tr>\n",
       "  </thead>\n",
       "  <tbody>\n",
       "    <tr>\n",
       "      <th>0</th>\n",
       "      <td>0</td>\n",
       "      <td>500</td>\n",
       "      <td>700</td>\n",
       "      <td>0.980894</td>\n",
       "    </tr>\n",
       "    <tr>\n",
       "      <th>1</th>\n",
       "      <td>1</td>\n",
       "      <td>500</td>\n",
       "      <td>700</td>\n",
       "      <td>0.938966</td>\n",
       "    </tr>\n",
       "    <tr>\n",
       "      <th>2</th>\n",
       "      <td>2</td>\n",
       "      <td>500</td>\n",
       "      <td>700</td>\n",
       "      <td>0.948697</td>\n",
       "    </tr>\n",
       "    <tr>\n",
       "      <th>3</th>\n",
       "      <td>3</td>\n",
       "      <td>500</td>\n",
       "      <td>700</td>\n",
       "      <td>0.105153</td>\n",
       "    </tr>\n",
       "    <tr>\n",
       "      <th>4</th>\n",
       "      <td>4</td>\n",
       "      <td>500</td>\n",
       "      <td>700</td>\n",
       "      <td>0.929482</td>\n",
       "    </tr>\n",
       "    <tr>\n",
       "      <th>5</th>\n",
       "      <td>5</td>\n",
       "      <td>500</td>\n",
       "      <td>700</td>\n",
       "      <td>0.069971</td>\n",
       "    </tr>\n",
       "    <tr>\n",
       "      <th>6</th>\n",
       "      <td>6</td>\n",
       "      <td>500</td>\n",
       "      <td>700</td>\n",
       "      <td>0.077163</td>\n",
       "    </tr>\n",
       "    <tr>\n",
       "      <th>7</th>\n",
       "      <td>7</td>\n",
       "      <td>500</td>\n",
       "      <td>700</td>\n",
       "      <td>0.046881</td>\n",
       "    </tr>\n",
       "  </tbody>\n",
       "</table>\n",
       "</div>"
      ],
      "text/plain": [
       "   Thread  Rank  Iterations      Time\n",
       "0       0   500         700  0.980894\n",
       "1       1   500         700  0.938966\n",
       "2       2   500         700  0.948697\n",
       "3       3   500         700  0.105153\n",
       "4       4   500         700  0.929482\n",
       "5       5   500         700  0.069971\n",
       "6       6   500         700  0.077163\n",
       "7       7   500         700  0.046881"
      ]
     },
     "execution_count": 4,
     "metadata": {},
     "output_type": "execute_result"
    }
   ],
   "source": [
    "thread_dataset.head(10)"
   ]
  },
  {
   "cell_type": "code",
   "execution_count": 5,
   "id": "3420dd43",
   "metadata": {},
   "outputs": [
    {
     "data": {
      "image/png": "[encoded data removed]",
      "text/plain": [
       "<Figure size 432x288 with 1 Axes>"
      ]
     },
     "metadata": {
      "needs_background": "light"
     },
     "output_type": "display_data"
    }
   ],
   "source": [
    "# Data for plotting of thread\n",
    "rank = thread_dataset['Thread'].values\n",
    "time = thread_dataset['Time'].values\n",
    "\n",
    "fig, ax = plt.subplots()\n",
    "ax.plot(rank, time, \"-o\")\n",
    "\n",
    "ax.set(xlabel='Thread (s)', ylabel='Time',\n",
    "       title='Calculation of matrix based on thread')\n",
    "ax.grid()\n",
    "\n",
    "fig.savefig(\"thread(t2).png\")\n",
    "plt.show()"
   ]
  },
  {
   "cell_type": "markdown",
   "id": "ffc4972d",
   "metadata": {},
   "source": [
    "### Rank-Iteration ###"
   ]
  },
  {
   "cell_type": "code",
   "execution_count": 6,
   "id": "77b4a8f2",
   "metadata": {},
   "outputs": [],
   "source": [
    "rank_dataset = pd.read_csv('rank_iter(t2).csv')"
   ]
  },
  {
   "cell_type": "code",
   "execution_count": 7,
   "id": "1f481bbd",
   "metadata": {},
   "outputs": [
    {
     "data": {
      "text/html": [
       "<div>\n",
       "<style scoped>\n",
       "    .dataframe tbody tr th:only-of-type {\n",
       "        vertical-align: middle;\n",
       "    }\n",
       "\n",
       "    .dataframe tbody tr th {\n",
       "        vertical-align: top;\n",
       "    }\n",
       "\n",
       "    .dataframe thead th {\n",
       "        text-align: right;\n",
       "    }\n",
       "</style>\n",
       "<table border=\"1\" class=\"dataframe\">\n",
       "  <thead>\n",
       "    <tr style=\"text-align: right;\">\n",
       "      <th></th>\n",
       "      <th>Thread</th>\n",
       "      <th>Rank</th>\n",
       "      <th>Iteration</th>\n",
       "      <th>Time</th>\n",
       "    </tr>\n",
       "  </thead>\n",
       "  <tbody>\n",
       "    <tr>\n",
       "      <th>0</th>\n",
       "      <td>0</td>\n",
       "      <td>10</td>\n",
       "      <td>700</td>\n",
       "      <td>0.000776</td>\n",
       "    </tr>\n",
       "    <tr>\n",
       "      <th>1</th>\n",
       "      <td>0</td>\n",
       "      <td>30</td>\n",
       "      <td>700</td>\n",
       "      <td>0.003326</td>\n",
       "    </tr>\n",
       "    <tr>\n",
       "      <th>2</th>\n",
       "      <td>0</td>\n",
       "      <td>60</td>\n",
       "      <td>700</td>\n",
       "      <td>0.017292</td>\n",
       "    </tr>\n",
       "    <tr>\n",
       "      <th>3</th>\n",
       "      <td>0</td>\n",
       "      <td>100</td>\n",
       "      <td>700</td>\n",
       "      <td>0.049233</td>\n",
       "    </tr>\n",
       "    <tr>\n",
       "      <th>4</th>\n",
       "      <td>0</td>\n",
       "      <td>140</td>\n",
       "      <td>700</td>\n",
       "      <td>0.063236</td>\n",
       "    </tr>\n",
       "    <tr>\n",
       "      <th>5</th>\n",
       "      <td>0</td>\n",
       "      <td>240</td>\n",
       "      <td>700</td>\n",
       "      <td>0.177852</td>\n",
       "    </tr>\n",
       "    <tr>\n",
       "      <th>6</th>\n",
       "      <td>0</td>\n",
       "      <td>340</td>\n",
       "      <td>700</td>\n",
       "      <td>0.360096</td>\n",
       "    </tr>\n",
       "    <tr>\n",
       "      <th>7</th>\n",
       "      <td>0</td>\n",
       "      <td>440</td>\n",
       "      <td>700</td>\n",
       "      <td>0.648749</td>\n",
       "    </tr>\n",
       "  </tbody>\n",
       "</table>\n",
       "</div>"
      ],
      "text/plain": [
       "   Thread  Rank  Iteration      Time\n",
       "0       0    10        700  0.000776\n",
       "1       0    30        700  0.003326\n",
       "2       0    60        700  0.017292\n",
       "3       0   100        700  0.049233\n",
       "4       0   140        700  0.063236\n",
       "5       0   240        700  0.177852\n",
       "6       0   340        700  0.360096\n",
       "7       0   440        700  0.648749"
      ]
     },
     "execution_count": 7,
     "metadata": {},
     "output_type": "execute_result"
    }
   ],
   "source": [
    "rank_dataset.head(10)"
   ]
  },
  {
   "cell_type": "code",
   "execution_count": 8,
   "id": "3a999386",
   "metadata": {},
   "outputs": [
    {
     "data": {
      "image/png": "[encoded data removed]",
      "text/plain": [
       "<Figure size 432x288 with 1 Axes>"
      ]
     },
     "metadata": {
      "needs_background": "light"
     },
     "output_type": "display_data"
    }
   ],
   "source": [
    "# Data for plotting of thread\n",
    "rank = rank_dataset['Rank'].values\n",
    "time = rank_dataset['Time'].values\n",
    "\n",
    "fig, ax = plt.subplots()\n",
    "ax.plot(rank, time, \"-o\")\n",
    "\n",
    "ax.set(xlabel='Rank (s)', ylabel='Time',\n",
    "       title='Calculation of matrix based on rank')\n",
    "ax.grid()\n",
    "\n",
    "fig.savefig(\"rank(t2).png\")\n",
    "plt.show()"
   ]
  },
  {
   "cell_type": "code",
   "execution_count": 9,
   "id": "a1024530",
   "metadata": {},
   "outputs": [],
   "source": [
    "iteration_dataset = pd.read_csv('iteration_exper(t2).csv')"
   ]
  },
  {
   "cell_type": "code",
   "execution_count": 10,
   "id": "6f0d97a8",
   "metadata": {},
   "outputs": [
    {
     "data": {
      "text/html": [
       "<div>\n",
       "<style scoped>\n",
       "    .dataframe tbody tr th:only-of-type {\n",
       "        vertical-align: middle;\n",
       "    }\n",
       "\n",
       "    .dataframe tbody tr th {\n",
       "        vertical-align: top;\n",
       "    }\n",
       "\n",
       "    .dataframe thead th {\n",
       "        text-align: right;\n",
       "    }\n",
       "</style>\n",
       "<table border=\"1\" class=\"dataframe\">\n",
       "  <thead>\n",
       "    <tr style=\"text-align: right;\">\n",
       "      <th></th>\n",
       "      <th>Thread</th>\n",
       "      <th>Rank</th>\n",
       "      <th>Iteration</th>\n",
       "      <th>Time</th>\n",
       "    </tr>\n",
       "  </thead>\n",
       "  <tbody>\n",
       "    <tr>\n",
       "      <th>0</th>\n",
       "      <td>0</td>\n",
       "      <td>100</td>\n",
       "      <td>500</td>\n",
       "      <td>0.023435</td>\n",
       "    </tr>\n",
       "    <tr>\n",
       "      <th>1</th>\n",
       "      <td>0</td>\n",
       "      <td>100</td>\n",
       "      <td>1000</td>\n",
       "      <td>0.048457</td>\n",
       "    </tr>\n",
       "    <tr>\n",
       "      <th>2</th>\n",
       "      <td>0</td>\n",
       "      <td>100</td>\n",
       "      <td>2000</td>\n",
       "      <td>0.090722</td>\n",
       "    </tr>\n",
       "    <tr>\n",
       "      <th>3</th>\n",
       "      <td>0</td>\n",
       "      <td>100</td>\n",
       "      <td>4000</td>\n",
       "      <td>0.184101</td>\n",
       "    </tr>\n",
       "    <tr>\n",
       "      <th>4</th>\n",
       "      <td>0</td>\n",
       "      <td>100</td>\n",
       "      <td>6000</td>\n",
       "      <td>0.354138</td>\n",
       "    </tr>\n",
       "    <tr>\n",
       "      <th>5</th>\n",
       "      <td>0</td>\n",
       "      <td>100</td>\n",
       "      <td>8000</td>\n",
       "      <td>0.364048</td>\n",
       "    </tr>\n",
       "    <tr>\n",
       "      <th>6</th>\n",
       "      <td>0</td>\n",
       "      <td>100</td>\n",
       "      <td>10000</td>\n",
       "      <td>0.508315</td>\n",
       "    </tr>\n",
       "    <tr>\n",
       "      <th>7</th>\n",
       "      <td>0</td>\n",
       "      <td>100</td>\n",
       "      <td>12000</td>\n",
       "      <td>0.564342</td>\n",
       "    </tr>\n",
       "  </tbody>\n",
       "</table>\n",
       "</div>"
      ],
      "text/plain": [
       "   Thread  Rank  Iteration      Time\n",
       "0       0   100        500  0.023435\n",
       "1       0   100       1000  0.048457\n",
       "2       0   100       2000  0.090722\n",
       "3       0   100       4000  0.184101\n",
       "4       0   100       6000  0.354138\n",
       "5       0   100       8000  0.364048\n",
       "6       0   100      10000  0.508315\n",
       "7       0   100      12000  0.564342"
      ]
     },
     "execution_count": 10,
     "metadata": {},
     "output_type": "execute_result"
    }
   ],
   "source": [
    "iteration_dataset.head(10)"
   ]
  },
  {
   "cell_type": "code",
   "execution_count": 11,
   "id": "cdc3b7e2",
   "metadata": {},
   "outputs": [
    {
     "data": {
      "image/png": "[encoded data removed]",
      "text/plain": [
       "<Figure size 432x288 with 1 Axes>"
      ]
     },
     "metadata": {
      "needs_background": "light"
     },
     "output_type": "display_data"
    }
   ],
   "source": [
    "# Data for plotting of thread\n",
    "rank = iteration_dataset['Iteration'].values\n",
    "time = iteration_dataset['Time'].values\n",
    "\n",
    "fig, ax = plt.subplots()\n",
    "ax.plot(rank, time, \"-o\")\n",
    "\n",
    "ax.set(xlabel='Iteration (s)', ylabel='Time',\n",
    "       title='Calculation of matrix based on iteration')\n",
    "ax.grid()\n",
    "\n",
    "fig.savefig(\"iteration(t2).png\")\n",
    "plt.show()"
   ]
  }
 ],
 "metadata": {
  "kernelspec": {
   "display_name": "Python 3 (ipykernel)",
   "language": "python",
   "name": "python3"
  },
  "language_info": {
   "codemirror_mode": {
    "name": "ipython",
    "version": 3
   },
   "file_extension": ".py",
   "mimetype": "text/x-python",
   "name": "python",
   "nbconvert_exporter": "python",
   "pygments_lexer": "ipython3",
   "version": "3.9.12"
  }
 },
 "nbformat": 4,
 "nbformat_minor": 5
}
